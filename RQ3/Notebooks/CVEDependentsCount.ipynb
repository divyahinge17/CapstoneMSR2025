{
 "cells": [
  {
   "cell_type": "code",
   "execution_count": 2,
   "id": "66196d5f-fe79-4a10-8ace-d10d99eae24f",
   "metadata": {},
   "outputs": [],
   "source": [
    "import pandas as pd\n",
    "import matplotlib.pyplot as plt\n",
    "import matplotlib.dates as mdates"
   ]
  },
  {
   "cell_type": "code",
   "execution_count": null,
   "id": "59e9c681-5945-42db-b4d0-73120fcb8c7b",
   "metadata": {},
   "outputs": [],
   "source": [
    "file_path = './Data'\n",
    "\n",
    "for file in os.listdir(file_path):\n",
    "    df = pd.read_csv(file)\n",
    "\n",
    "    df['releaseDate'] = df['releaseDate'].str.strip('\"')\n",
    "    df['releaseDate'] = pd.to_datetime(df['releaseDate'], format='%Y-%m-%dT%H:%M:%SZ')\n",
    "    df['year'] = df['releaseDate'].dt.year\n",
    "    dependents_data = df[['year','dependentCount']]\n",
    "\n",
    "    yearly_data = dependents_data.groupby('year')[['dependentCount']].sum().reset_index()\n",
    "\n",
    "    plt.figure(figsize = (12,6))\n",
    "    plt.plot(yearly_data['year'],yearly_data['dependentCount'], marker='o', label='Dependents', color='blue')\n",
    "    \n",
    "    cve_year = 2022\n",
    "    \n",
    "    # Add average dependency count line\n",
    "    plt.axvline(x=cve_year, color='r', linestyle='--', label='CVE')\n",
    "    \n",
    "    plt.title('Dependents Count')\n",
    "    plt.xlabel('Year')\n",
    "    plt.ylabel('Number of Dependents')\n",
    "    plt.legend()\n",
    "    plt.grid(True)\n",
    "    plt.show()"
   ]
  }
 ],
 "metadata": {
  "kernelspec": {
   "display_name": "Python 3 (ipykernel)",
   "language": "python",
   "name": "python3"
  },
  "language_info": {
   "codemirror_mode": {
    "name": "ipython",
    "version": 3
   },
   "file_extension": ".py",
   "mimetype": "text/x-python",
   "name": "python",
   "nbconvert_exporter": "python",
   "pygments_lexer": "ipython3",
   "version": "3.11.5"
  }
 },
 "nbformat": 4,
 "nbformat_minor": 5
}
