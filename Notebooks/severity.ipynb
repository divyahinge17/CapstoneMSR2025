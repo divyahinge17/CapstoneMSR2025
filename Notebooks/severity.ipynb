{
 "cells": [
  {
   "cell_type": "code",
   "execution_count": 96,
   "id": "a3976e3c-78c4-4a17-a349-fad1b1e04257",
   "metadata": {},
   "outputs": [],
   "source": [
    "import pandas as pd\n",
    "import requests\n",
    "import json"
   ]
  },
  {
   "cell_type": "code",
   "execution_count": 97,
   "id": "4fba414e-bfdb-4c83-82ee-f4fe0dc1fd51",
   "metadata": {},
   "outputs": [],
   "source": [
    "file_path = r'C:\\Users\\divya\\Projects\\Capstone\\QueryExports\\CVE20-24ArtifactCounts.xlsx'\n",
    "df = pd.read_excel(file_path, sheet_name = 'Sheet1')"
   ]
  },
  {
   "cell_type": "code",
   "execution_count": 98,
   "id": "0059bdf6-ee3b-4dc6-9769-95cb5947d4bf",
   "metadata": {},
   "outputs": [
    {
     "data": {
      "text/html": [
       "<div>\n",
       "<style scoped>\n",
       "    .dataframe tbody tr th:only-of-type {\n",
       "        vertical-align: middle;\n",
       "    }\n",
       "\n",
       "    .dataframe tbody tr th {\n",
       "        vertical-align: top;\n",
       "    }\n",
       "\n",
       "    .dataframe thead th {\n",
       "        text-align: right;\n",
       "    }\n",
       "</style>\n",
       "<table border=\"1\" class=\"dataframe\">\n",
       "  <thead>\n",
       "    <tr style=\"text-align: right;\">\n",
       "      <th></th>\n",
       "      <th>CVE</th>\n",
       "      <th>artifactId</th>\n",
       "      <th>NoOfDependents</th>\n",
       "      <th>NoOfReleases</th>\n",
       "    </tr>\n",
       "  </thead>\n",
       "  <tbody>\n",
       "    <tr>\n",
       "      <th>0</th>\n",
       "      <td>CVE-2022-36944</td>\n",
       "      <td>org.scala-lang:scala-library</td>\n",
       "      <td>1578767</td>\n",
       "      <td>210</td>\n",
       "    </tr>\n",
       "    <tr>\n",
       "      <th>1</th>\n",
       "      <td>CVE-2020-9548</td>\n",
       "      <td>com.fasterxml.jackson.core:jackson-databind</td>\n",
       "      <td>860468</td>\n",
       "      <td>199</td>\n",
       "    </tr>\n",
       "    <tr>\n",
       "      <th>2</th>\n",
       "      <td>CVE-2020-9547</td>\n",
       "      <td>com.fasterxml.jackson.core:jackson-databind</td>\n",
       "      <td>860468</td>\n",
       "      <td>199</td>\n",
       "    </tr>\n",
       "    <tr>\n",
       "      <th>3</th>\n",
       "      <td>CVE-2020-9546</td>\n",
       "      <td>com.fasterxml.jackson.core:jackson-databind</td>\n",
       "      <td>860468</td>\n",
       "      <td>199</td>\n",
       "    </tr>\n",
       "    <tr>\n",
       "      <th>4</th>\n",
       "      <td>CVE-2020-8840</td>\n",
       "      <td>com.fasterxml.jackson.core:jackson-databind</td>\n",
       "      <td>860468</td>\n",
       "      <td>199</td>\n",
       "    </tr>\n",
       "    <tr>\n",
       "      <th>...</th>\n",
       "      <td>...</td>\n",
       "      <td>...</td>\n",
       "      <td>...</td>\n",
       "      <td>...</td>\n",
       "    </tr>\n",
       "    <tr>\n",
       "      <th>292</th>\n",
       "      <td>CVE-2021-44868</td>\n",
       "      <td>net.mingsoft:ms-mcms</td>\n",
       "      <td>1</td>\n",
       "      <td>29</td>\n",
       "    </tr>\n",
       "    <tr>\n",
       "      <th>293</th>\n",
       "      <td>CVE-2021-44228</td>\n",
       "      <td>org.xbib.elasticsearch:log4j</td>\n",
       "      <td>1</td>\n",
       "      <td>1</td>\n",
       "    </tr>\n",
       "    <tr>\n",
       "      <th>294</th>\n",
       "      <td>CVE-2021-44228</td>\n",
       "      <td>uk.co.nichesolutions.logging.log4j:log4j-core</td>\n",
       "      <td>1</td>\n",
       "      <td>1</td>\n",
       "    </tr>\n",
       "    <tr>\n",
       "      <th>295</th>\n",
       "      <td>CVE-2020-23262</td>\n",
       "      <td>net.mingsoft:ms-mcms</td>\n",
       "      <td>1</td>\n",
       "      <td>29</td>\n",
       "    </tr>\n",
       "    <tr>\n",
       "      <th>296</th>\n",
       "      <td>CVE-2020-20913</td>\n",
       "      <td>net.mingsoft:ms-mcms</td>\n",
       "      <td>1</td>\n",
       "      <td>29</td>\n",
       "    </tr>\n",
       "  </tbody>\n",
       "</table>\n",
       "<p>297 rows × 4 columns</p>\n",
       "</div>"
      ],
      "text/plain": [
       "                CVE                                     artifactId  \\\n",
       "0    CVE-2022-36944                   org.scala-lang:scala-library   \n",
       "1     CVE-2020-9548    com.fasterxml.jackson.core:jackson-databind   \n",
       "2     CVE-2020-9547    com.fasterxml.jackson.core:jackson-databind   \n",
       "3     CVE-2020-9546    com.fasterxml.jackson.core:jackson-databind   \n",
       "4     CVE-2020-8840    com.fasterxml.jackson.core:jackson-databind   \n",
       "..              ...                                            ...   \n",
       "292  CVE-2021-44868                           net.mingsoft:ms-mcms   \n",
       "293  CVE-2021-44228                   org.xbib.elasticsearch:log4j   \n",
       "294  CVE-2021-44228  uk.co.nichesolutions.logging.log4j:log4j-core   \n",
       "295  CVE-2020-23262                           net.mingsoft:ms-mcms   \n",
       "296  CVE-2020-20913                           net.mingsoft:ms-mcms   \n",
       "\n",
       "     NoOfDependents  NoOfReleases  \n",
       "0           1578767           210  \n",
       "1            860468           199  \n",
       "2            860468           199  \n",
       "3            860468           199  \n",
       "4            860468           199  \n",
       "..              ...           ...  \n",
       "292               1            29  \n",
       "293               1             1  \n",
       "294               1             1  \n",
       "295               1            29  \n",
       "296               1            29  \n",
       "\n",
       "[297 rows x 4 columns]"
      ]
     },
     "execution_count": 98,
     "metadata": {},
     "output_type": "execute_result"
    }
   ],
   "source": [
    "df"
   ]
  },
  {
   "cell_type": "code",
   "execution_count": 99,
   "id": "ae6285e7-9e04-4322-a749-17c768b747d1",
   "metadata": {},
   "outputs": [
    {
     "data": {
      "text/plain": [
       "'CVE-2022-36944'"
      ]
     },
     "execution_count": 99,
     "metadata": {},
     "output_type": "execute_result"
    }
   ],
   "source": [
    "df['CVE'][0]"
   ]
  },
  {
   "cell_type": "code",
   "execution_count": 100,
   "id": "bf5723ac-258d-4e0a-9657-122ffb3551db",
   "metadata": {},
   "outputs": [],
   "source": [
    "link = 'https://api.osv.dev/v1/vulns/'+ df['CVE'][0]\n",
    "r = requests.get(link)"
   ]
  },
  {
   "cell_type": "code",
   "execution_count": 101,
   "id": "05ebcfa7-7cc2-47d9-b1fb-b4333a5c6f98",
   "metadata": {},
   "outputs": [
    {
     "data": {
      "text/plain": [
       "<Response [200]>"
      ]
     },
     "execution_count": 101,
     "metadata": {},
     "output_type": "execute_result"
    }
   ],
   "source": [
    "r"
   ]
  },
  {
   "cell_type": "code",
   "execution_count": 102,
   "id": "81e0efd9-ae4e-46df-a095-d3d9303dede0",
   "metadata": {},
   "outputs": [
    {
     "data": {
      "text/plain": [
       "'{\"id\":\"CVE-2022-36944\",\"details\":\"Scala 2.13.x before 2.13.9 has a Java deserialization chain in its JAR file. On its own, it cannot be exploited. There is only a risk in conjunction with Java object deserialization within an application. In such situations, it allows attackers to erase contents of arbitrary files, make network connections, or possibly run arbitrary code (specifically, Function0 functions) via a gadget chain.\",\"aliases\":[\"GHSA-8qv5-68g4-248j\"],\"modified\":\"2024-08-01T06:57:30.863652Z\",\"published\":\"2022-09-23T18:15:10Z\",\"related\":[\"UBUNTU-CVE-2022-36944\"],\"references\":[{\"type\":\"ADVISORY\",\"url\":\"https://www.scala-lang.org/download/\"},{\"type\":\"WEB\",\"url\":\"https://github.com/scala/scala/pull/10118\"},{\"type\":\"WEB\",\"url\":\"https://discuss.lightbend.com/t/impact-of-cve-2022-36944-on-akka-cluster-akka-actor-akka-remote/10007/2\"},{\"type\":\"WEB\",\"url\":\"https://github.com/scala/scala-collection-compat/releases/tag/v2.9.0\"},{\"type\":\"WEB\",\"url\":\"https://lists.fedoraproject.org/archives/list/package-announce%40lists.fedoraproject.org/message/6ZOZVWY3X72FZZCCRAKRJYTQOJ6LUD6Z/\"},{\"type\":\"WEB\",\"url\":\"https://lists.fedoraproject.org/archives/list/package-announce%40lists.fedoraproject.org/message/L3WMKPFAMFQE3HJVRQ5KOJUTWG264SXI/\"}],\"affected\":[{\"ranges\":[{\"type\":\"GIT\",\"repo\":\"https://github.com/scala/scala\",\"events\":[{\"introduced\":\"0\"},{\"fixed\":\"66ebc65f3fcb7acc1637d8acf3c7ca4fed5119da\"}]},{\"type\":\"GIT\",\"repo\":\"https://github.com/scala/scala-collection-compat\",\"events\":[{\"introduced\":\"0\"},{\"fixed\":\"974b3a79efb3e3be846937734ebbfc8fbf050241\"}]}],\"versions\":[\"v0.1.0\",\"v0.1.1\",\"v0.2.0\",\"v0.2.2\",\"v0.3.0\",\"v1.0.0\",\"v1.0.0-b5\",\"v1.0.0-b6\",\"v1.1.0-b0\",\"v1.4.0+3\",\"v2.0.0\",\"v2.1.0\",\"v2.1.1\",\"v2.1.2\",\"v2.1.3\",\"v2.1.3-RC1\",\"v2.1.3-RC2\",\"v2.1.3-RC3\",\"v2.1.4\",\"v2.1.5\",\"v2.1.6\",\"v2.1.7\",\"v2.1.8\",\"v2.2.0\",\"v2.3.0\",\"v2.3.1\",\"v2.3.2\",\"v2.3.3\",\"v2.4.0\",\"v2.4.1\",\"v2.4.2\",\"v2.4.3\",\"v2.4.4\",\"v2.5.0\",\"v2.6.0\",\"v2.7-diverged\",\"v2.7.0\",\"v2.8-diverged\",\"v2.8.0\",\"v2.8.1\",\"v2.9-diverged\"],\"database_specific\":{\"source\":\"https://storage.googleapis.com/cve-osv-conversion/osv-output/CVE-2022-36944.json\"}}],\"schema_version\":\"1.6.0\",\"severity\":[{\"type\":\"CVSS_V3\",\"score\":\"CVSS:3.1/AV:N/AC:L/PR:N/UI:N/S:U/C:H/I:H/A:H\"}]}'"
      ]
     },
     "execution_count": 102,
     "metadata": {},
     "output_type": "execute_result"
    }
   ],
   "source": [
    "r.text"
   ]
  },
  {
   "cell_type": "code",
   "execution_count": 103,
   "id": "a81518f1-1ee0-42ea-9256-91c61bfe6ec2",
   "metadata": {},
   "outputs": [],
   "source": [
    "text = json.loads(r.text)"
   ]
  },
  {
   "cell_type": "code",
   "execution_count": 104,
   "id": "406515b6-7ac6-46c0-900f-8f5b69c60b05",
   "metadata": {},
   "outputs": [],
   "source": [
    "txt = text['severity'][0]['score']"
   ]
  },
  {
   "cell_type": "code",
   "execution_count": 105,
   "id": "fd00deea-5873-4278-94d2-cb8a4cc957f0",
   "metadata": {},
   "outputs": [
    {
     "data": {
      "text/plain": [
       "'CVSS:3.1/AV:N/AC:L/PR:N/UI:N/S:U/C:H/I:H/A:H'"
      ]
     },
     "execution_count": 105,
     "metadata": {},
     "output_type": "execute_result"
    }
   ],
   "source": [
    "txt"
   ]
  },
  {
   "cell_type": "code",
   "execution_count": 106,
   "id": "3417b168-7942-4d20-8e9f-25b14608638b",
   "metadata": {},
   "outputs": [],
   "source": [
    "ali = text['aliases'][0]"
   ]
  },
  {
   "cell_type": "code",
   "execution_count": 107,
   "id": "6fde9cb4-2c64-457b-ad1d-c2906c33e4f5",
   "metadata": {},
   "outputs": [
    {
     "data": {
      "text/plain": [
       "'GHSA-8qv5-68g4-248j'"
      ]
     },
     "execution_count": 107,
     "metadata": {},
     "output_type": "execute_result"
    }
   ],
   "source": [
    "ali"
   ]
  },
  {
   "cell_type": "code",
   "execution_count": 108,
   "id": "7d39ab46-c40f-43a6-b314-72f3d4613f57",
   "metadata": {},
   "outputs": [],
   "source": [
    "alias = []\n",
    "\n",
    "for cve in df['CVE']:\n",
    "    link = 'https://api.osv.dev/v1/vulns/'+ cve\n",
    "    response = requests.get(link)\n",
    "\n",
    "    try:\n",
    "        text = json.loads(response.text)\n",
    "        aliases = text['aliases'][0]\n",
    "    except(KeyError, IndexError, json.JSONDecodeError):\n",
    "        aliases = None\n",
    "        \n",
    "    alias.append(aliases)\n",
    "\n",
    "df['alias'] = alias"
   ]
  },
  {
   "cell_type": "code",
   "execution_count": 109,
   "id": "58ef0f1e-c494-4354-9a7e-a61bc24f01ef",
   "metadata": {},
   "outputs": [
    {
     "data": {
      "text/html": [
       "<div>\n",
       "<style scoped>\n",
       "    .dataframe tbody tr th:only-of-type {\n",
       "        vertical-align: middle;\n",
       "    }\n",
       "\n",
       "    .dataframe tbody tr th {\n",
       "        vertical-align: top;\n",
       "    }\n",
       "\n",
       "    .dataframe thead th {\n",
       "        text-align: right;\n",
       "    }\n",
       "</style>\n",
       "<table border=\"1\" class=\"dataframe\">\n",
       "  <thead>\n",
       "    <tr style=\"text-align: right;\">\n",
       "      <th></th>\n",
       "      <th>CVE</th>\n",
       "      <th>artifactId</th>\n",
       "      <th>NoOfDependents</th>\n",
       "      <th>NoOfReleases</th>\n",
       "      <th>alias</th>\n",
       "    </tr>\n",
       "  </thead>\n",
       "  <tbody>\n",
       "    <tr>\n",
       "      <th>0</th>\n",
       "      <td>CVE-2022-36944</td>\n",
       "      <td>org.scala-lang:scala-library</td>\n",
       "      <td>1578767</td>\n",
       "      <td>210</td>\n",
       "      <td>GHSA-8qv5-68g4-248j</td>\n",
       "    </tr>\n",
       "    <tr>\n",
       "      <th>1</th>\n",
       "      <td>CVE-2020-9548</td>\n",
       "      <td>com.fasterxml.jackson.core:jackson-databind</td>\n",
       "      <td>860468</td>\n",
       "      <td>199</td>\n",
       "      <td>GHSA-p43x-xfjf-5jhr</td>\n",
       "    </tr>\n",
       "    <tr>\n",
       "      <th>2</th>\n",
       "      <td>CVE-2020-9547</td>\n",
       "      <td>com.fasterxml.jackson.core:jackson-databind</td>\n",
       "      <td>860468</td>\n",
       "      <td>199</td>\n",
       "      <td>GHSA-q93h-jc49-78gg</td>\n",
       "    </tr>\n",
       "    <tr>\n",
       "      <th>3</th>\n",
       "      <td>CVE-2020-9546</td>\n",
       "      <td>com.fasterxml.jackson.core:jackson-databind</td>\n",
       "      <td>860468</td>\n",
       "      <td>199</td>\n",
       "      <td>GHSA-5p34-5m6p-p58g</td>\n",
       "    </tr>\n",
       "    <tr>\n",
       "      <th>4</th>\n",
       "      <td>CVE-2020-8840</td>\n",
       "      <td>com.fasterxml.jackson.core:jackson-databind</td>\n",
       "      <td>860468</td>\n",
       "      <td>199</td>\n",
       "      <td>GHSA-4w82-r329-3q67</td>\n",
       "    </tr>\n",
       "    <tr>\n",
       "      <th>...</th>\n",
       "      <td>...</td>\n",
       "      <td>...</td>\n",
       "      <td>...</td>\n",
       "      <td>...</td>\n",
       "      <td>...</td>\n",
       "    </tr>\n",
       "    <tr>\n",
       "      <th>292</th>\n",
       "      <td>CVE-2021-44868</td>\n",
       "      <td>net.mingsoft:ms-mcms</td>\n",
       "      <td>1</td>\n",
       "      <td>29</td>\n",
       "      <td>None</td>\n",
       "    </tr>\n",
       "    <tr>\n",
       "      <th>293</th>\n",
       "      <td>CVE-2021-44228</td>\n",
       "      <td>org.xbib.elasticsearch:log4j</td>\n",
       "      <td>1</td>\n",
       "      <td>1</td>\n",
       "      <td>GHSA-jfh8-c2jp-5v3q</td>\n",
       "    </tr>\n",
       "    <tr>\n",
       "      <th>294</th>\n",
       "      <td>CVE-2021-44228</td>\n",
       "      <td>uk.co.nichesolutions.logging.log4j:log4j-core</td>\n",
       "      <td>1</td>\n",
       "      <td>1</td>\n",
       "      <td>GHSA-jfh8-c2jp-5v3q</td>\n",
       "    </tr>\n",
       "    <tr>\n",
       "      <th>295</th>\n",
       "      <td>CVE-2020-23262</td>\n",
       "      <td>net.mingsoft:ms-mcms</td>\n",
       "      <td>1</td>\n",
       "      <td>29</td>\n",
       "      <td>None</td>\n",
       "    </tr>\n",
       "    <tr>\n",
       "      <th>296</th>\n",
       "      <td>CVE-2020-20913</td>\n",
       "      <td>net.mingsoft:ms-mcms</td>\n",
       "      <td>1</td>\n",
       "      <td>29</td>\n",
       "      <td>None</td>\n",
       "    </tr>\n",
       "  </tbody>\n",
       "</table>\n",
       "<p>297 rows × 5 columns</p>\n",
       "</div>"
      ],
      "text/plain": [
       "                CVE                                     artifactId  \\\n",
       "0    CVE-2022-36944                   org.scala-lang:scala-library   \n",
       "1     CVE-2020-9548    com.fasterxml.jackson.core:jackson-databind   \n",
       "2     CVE-2020-9547    com.fasterxml.jackson.core:jackson-databind   \n",
       "3     CVE-2020-9546    com.fasterxml.jackson.core:jackson-databind   \n",
       "4     CVE-2020-8840    com.fasterxml.jackson.core:jackson-databind   \n",
       "..              ...                                            ...   \n",
       "292  CVE-2021-44868                           net.mingsoft:ms-mcms   \n",
       "293  CVE-2021-44228                   org.xbib.elasticsearch:log4j   \n",
       "294  CVE-2021-44228  uk.co.nichesolutions.logging.log4j:log4j-core   \n",
       "295  CVE-2020-23262                           net.mingsoft:ms-mcms   \n",
       "296  CVE-2020-20913                           net.mingsoft:ms-mcms   \n",
       "\n",
       "     NoOfDependents  NoOfReleases                alias  \n",
       "0           1578767           210  GHSA-8qv5-68g4-248j  \n",
       "1            860468           199  GHSA-p43x-xfjf-5jhr  \n",
       "2            860468           199  GHSA-q93h-jc49-78gg  \n",
       "3            860468           199  GHSA-5p34-5m6p-p58g  \n",
       "4            860468           199  GHSA-4w82-r329-3q67  \n",
       "..              ...           ...                  ...  \n",
       "292               1            29                 None  \n",
       "293               1             1  GHSA-jfh8-c2jp-5v3q  \n",
       "294               1             1  GHSA-jfh8-c2jp-5v3q  \n",
       "295               1            29                 None  \n",
       "296               1            29                 None  \n",
       "\n",
       "[297 rows x 5 columns]"
      ]
     },
     "execution_count": 109,
     "metadata": {},
     "output_type": "execute_result"
    }
   ],
   "source": [
    "df"
   ]
  },
  {
   "cell_type": "code",
   "execution_count": 110,
   "id": "4b1e6981-3f0e-4b53-ab47-eee5d6cab8b6",
   "metadata": {},
   "outputs": [
    {
     "data": {
      "text/plain": [
       "57"
      ]
     },
     "execution_count": 110,
     "metadata": {},
     "output_type": "execute_result"
    }
   ],
   "source": [
    "count = df['alias'].isna().sum()\n",
    "count"
   ]
  },
  {
   "cell_type": "code",
   "execution_count": 112,
   "id": "ba73e048-0153-4f25-9b9e-c69af2f57ff5",
   "metadata": {},
   "outputs": [],
   "source": [
    "severity_scores = []\n",
    "\n",
    "for ali in df['alias']:\n",
    "    if ali != None:\n",
    "        link = 'https://api.osv.dev/v1/vulns/'+ ali\n",
    "        response = requests.get(link)\n",
    "    \n",
    "        try:\n",
    "            text = json.loads(response.text)\n",
    "            severity = text['severity'][0]['score']\n",
    "        except(KeyError, IndexError, json.JSONDecodeError):\n",
    "            secerity = None\n",
    "            \n",
    "        severity_scores.append(severity)\n",
    "\n",
    "    else:\n",
    "        severity_scores.append(\"None\")\n",
    "\n",
    "df['severity'] = severity_scores"
   ]
  },
  {
   "cell_type": "code",
   "execution_count": 113,
   "id": "d951e4a6-f7c4-4fcf-a6c4-0040f45f5904",
   "metadata": {},
   "outputs": [
    {
     "data": {
      "text/html": [
       "<div>\n",
       "<style scoped>\n",
       "    .dataframe tbody tr th:only-of-type {\n",
       "        vertical-align: middle;\n",
       "    }\n",
       "\n",
       "    .dataframe tbody tr th {\n",
       "        vertical-align: top;\n",
       "    }\n",
       "\n",
       "    .dataframe thead th {\n",
       "        text-align: right;\n",
       "    }\n",
       "</style>\n",
       "<table border=\"1\" class=\"dataframe\">\n",
       "  <thead>\n",
       "    <tr style=\"text-align: right;\">\n",
       "      <th></th>\n",
       "      <th>CVE</th>\n",
       "      <th>artifactId</th>\n",
       "      <th>NoOfDependents</th>\n",
       "      <th>NoOfReleases</th>\n",
       "      <th>alias</th>\n",
       "      <th>severity</th>\n",
       "    </tr>\n",
       "  </thead>\n",
       "  <tbody>\n",
       "    <tr>\n",
       "      <th>0</th>\n",
       "      <td>CVE-2022-36944</td>\n",
       "      <td>org.scala-lang:scala-library</td>\n",
       "      <td>1578767</td>\n",
       "      <td>210</td>\n",
       "      <td>GHSA-8qv5-68g4-248j</td>\n",
       "      <td>CVSS:3.1/AV:N/AC:L/PR:N/UI:N/S:U/C:H/I:H/A:H</td>\n",
       "    </tr>\n",
       "    <tr>\n",
       "      <th>1</th>\n",
       "      <td>CVE-2020-9548</td>\n",
       "      <td>com.fasterxml.jackson.core:jackson-databind</td>\n",
       "      <td>860468</td>\n",
       "      <td>199</td>\n",
       "      <td>GHSA-p43x-xfjf-5jhr</td>\n",
       "      <td>CVSS:3.1/AV:N/AC:L/PR:N/UI:N/S:U/C:H/I:H/A:H</td>\n",
       "    </tr>\n",
       "    <tr>\n",
       "      <th>2</th>\n",
       "      <td>CVE-2020-9547</td>\n",
       "      <td>com.fasterxml.jackson.core:jackson-databind</td>\n",
       "      <td>860468</td>\n",
       "      <td>199</td>\n",
       "      <td>GHSA-q93h-jc49-78gg</td>\n",
       "      <td>CVSS:3.1/AV:N/AC:L/PR:N/UI:N/S:U/C:H/I:H/A:H</td>\n",
       "    </tr>\n",
       "    <tr>\n",
       "      <th>3</th>\n",
       "      <td>CVE-2020-9546</td>\n",
       "      <td>com.fasterxml.jackson.core:jackson-databind</td>\n",
       "      <td>860468</td>\n",
       "      <td>199</td>\n",
       "      <td>GHSA-5p34-5m6p-p58g</td>\n",
       "      <td>CVSS:3.1/AV:N/AC:L/PR:N/UI:N/S:U/C:H/I:H/A:H</td>\n",
       "    </tr>\n",
       "    <tr>\n",
       "      <th>4</th>\n",
       "      <td>CVE-2020-8840</td>\n",
       "      <td>com.fasterxml.jackson.core:jackson-databind</td>\n",
       "      <td>860468</td>\n",
       "      <td>199</td>\n",
       "      <td>GHSA-4w82-r329-3q67</td>\n",
       "      <td>CVSS:3.1/AV:N/AC:L/PR:N/UI:N/S:U/C:H/I:H/A:H</td>\n",
       "    </tr>\n",
       "    <tr>\n",
       "      <th>...</th>\n",
       "      <td>...</td>\n",
       "      <td>...</td>\n",
       "      <td>...</td>\n",
       "      <td>...</td>\n",
       "      <td>...</td>\n",
       "      <td>...</td>\n",
       "    </tr>\n",
       "    <tr>\n",
       "      <th>292</th>\n",
       "      <td>CVE-2021-44868</td>\n",
       "      <td>net.mingsoft:ms-mcms</td>\n",
       "      <td>1</td>\n",
       "      <td>29</td>\n",
       "      <td>None</td>\n",
       "      <td>None</td>\n",
       "    </tr>\n",
       "    <tr>\n",
       "      <th>293</th>\n",
       "      <td>CVE-2021-44228</td>\n",
       "      <td>org.xbib.elasticsearch:log4j</td>\n",
       "      <td>1</td>\n",
       "      <td>1</td>\n",
       "      <td>GHSA-jfh8-c2jp-5v3q</td>\n",
       "      <td>CVSS:3.1/AV:N/AC:L/PR:N/UI:N/S:C/C:H/I:H/A:H</td>\n",
       "    </tr>\n",
       "    <tr>\n",
       "      <th>294</th>\n",
       "      <td>CVE-2021-44228</td>\n",
       "      <td>uk.co.nichesolutions.logging.log4j:log4j-core</td>\n",
       "      <td>1</td>\n",
       "      <td>1</td>\n",
       "      <td>GHSA-jfh8-c2jp-5v3q</td>\n",
       "      <td>CVSS:3.1/AV:N/AC:L/PR:N/UI:N/S:C/C:H/I:H/A:H</td>\n",
       "    </tr>\n",
       "    <tr>\n",
       "      <th>295</th>\n",
       "      <td>CVE-2020-23262</td>\n",
       "      <td>net.mingsoft:ms-mcms</td>\n",
       "      <td>1</td>\n",
       "      <td>29</td>\n",
       "      <td>None</td>\n",
       "      <td>None</td>\n",
       "    </tr>\n",
       "    <tr>\n",
       "      <th>296</th>\n",
       "      <td>CVE-2020-20913</td>\n",
       "      <td>net.mingsoft:ms-mcms</td>\n",
       "      <td>1</td>\n",
       "      <td>29</td>\n",
       "      <td>None</td>\n",
       "      <td>None</td>\n",
       "    </tr>\n",
       "  </tbody>\n",
       "</table>\n",
       "<p>297 rows × 6 columns</p>\n",
       "</div>"
      ],
      "text/plain": [
       "                CVE                                     artifactId  \\\n",
       "0    CVE-2022-36944                   org.scala-lang:scala-library   \n",
       "1     CVE-2020-9548    com.fasterxml.jackson.core:jackson-databind   \n",
       "2     CVE-2020-9547    com.fasterxml.jackson.core:jackson-databind   \n",
       "3     CVE-2020-9546    com.fasterxml.jackson.core:jackson-databind   \n",
       "4     CVE-2020-8840    com.fasterxml.jackson.core:jackson-databind   \n",
       "..              ...                                            ...   \n",
       "292  CVE-2021-44868                           net.mingsoft:ms-mcms   \n",
       "293  CVE-2021-44228                   org.xbib.elasticsearch:log4j   \n",
       "294  CVE-2021-44228  uk.co.nichesolutions.logging.log4j:log4j-core   \n",
       "295  CVE-2020-23262                           net.mingsoft:ms-mcms   \n",
       "296  CVE-2020-20913                           net.mingsoft:ms-mcms   \n",
       "\n",
       "     NoOfDependents  NoOfReleases                alias  \\\n",
       "0           1578767           210  GHSA-8qv5-68g4-248j   \n",
       "1            860468           199  GHSA-p43x-xfjf-5jhr   \n",
       "2            860468           199  GHSA-q93h-jc49-78gg   \n",
       "3            860468           199  GHSA-5p34-5m6p-p58g   \n",
       "4            860468           199  GHSA-4w82-r329-3q67   \n",
       "..              ...           ...                  ...   \n",
       "292               1            29                 None   \n",
       "293               1             1  GHSA-jfh8-c2jp-5v3q   \n",
       "294               1             1  GHSA-jfh8-c2jp-5v3q   \n",
       "295               1            29                 None   \n",
       "296               1            29                 None   \n",
       "\n",
       "                                         severity  \n",
       "0    CVSS:3.1/AV:N/AC:L/PR:N/UI:N/S:U/C:H/I:H/A:H  \n",
       "1    CVSS:3.1/AV:N/AC:L/PR:N/UI:N/S:U/C:H/I:H/A:H  \n",
       "2    CVSS:3.1/AV:N/AC:L/PR:N/UI:N/S:U/C:H/I:H/A:H  \n",
       "3    CVSS:3.1/AV:N/AC:L/PR:N/UI:N/S:U/C:H/I:H/A:H  \n",
       "4    CVSS:3.1/AV:N/AC:L/PR:N/UI:N/S:U/C:H/I:H/A:H  \n",
       "..                                            ...  \n",
       "292                                          None  \n",
       "293  CVSS:3.1/AV:N/AC:L/PR:N/UI:N/S:C/C:H/I:H/A:H  \n",
       "294  CVSS:3.1/AV:N/AC:L/PR:N/UI:N/S:C/C:H/I:H/A:H  \n",
       "295                                          None  \n",
       "296                                          None  \n",
       "\n",
       "[297 rows x 6 columns]"
      ]
     },
     "execution_count": 113,
     "metadata": {},
     "output_type": "execute_result"
    }
   ],
   "source": [
    "df"
   ]
  },
  {
   "cell_type": "code",
   "execution_count": 114,
   "id": "9a5a8ebb-debe-4f18-98d3-5d960614616a",
   "metadata": {},
   "outputs": [],
   "source": [
    "csv_file_path = r'C:\\Users\\divya\\Projects\\Capstone\\QueryExports\\CVEseverity_new.xlsx'\n",
    "df.to_excel(csv_file_path, index=False)"
   ]
  },
  {
   "cell_type": "code",
   "execution_count": null,
   "id": "05aba394-2e34-4724-9064-e0017ecce9bb",
   "metadata": {},
   "outputs": [],
   "source": []
  }
 ],
 "metadata": {
  "kernelspec": {
   "display_name": "Python 3 (ipykernel)",
   "language": "python",
   "name": "python3"
  },
  "language_info": {
   "codemirror_mode": {
    "name": "ipython",
    "version": 3
   },
   "file_extension": ".py",
   "mimetype": "text/x-python",
   "name": "python",
   "nbconvert_exporter": "python",
   "pygments_lexer": "ipython3",
   "version": "3.11.5"
  }
 },
 "nbformat": 4,
 "nbformat_minor": 5
}
