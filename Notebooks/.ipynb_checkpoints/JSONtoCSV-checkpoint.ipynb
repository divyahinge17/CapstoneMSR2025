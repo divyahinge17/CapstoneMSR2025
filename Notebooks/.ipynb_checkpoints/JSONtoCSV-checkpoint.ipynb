{
 "cells": [
  {
   "cell_type": "code",
   "execution_count": 1,
   "id": "5f30c031-2723-453d-82b9-6acb9d6f2175",
   "metadata": {},
   "outputs": [],
   "source": [
    "import pandas as pd"
   ]
  },
  {
   "cell_type": "code",
   "execution_count": 5,
   "id": "f1626c94-fb50-4828-bfc4-23674bcaac68",
   "metadata": {},
   "outputs": [],
   "source": [
    "file_path = r'fileName.json'"
   ]
  },
  {
   "cell_type": "code",
   "execution_count": 6,
   "id": "e27a3ea1-e339-43f1-91e1-cc40e7ce422d",
   "metadata": {},
   "outputs": [],
   "source": [
    "df = pd.read_json(file_path)"
   ]
  },
  {
   "cell_type": "code",
   "execution_count": 7,
   "id": "b1d6374e-ce02-4371-803c-ff4201b22bf5",
   "metadata": {},
   "outputs": [
    {
     "data": {
      "text/html": [
       "<div>\n",
       "<style scoped>\n",
       "    .dataframe tbody tr th:only-of-type {\n",
       "        vertical-align: middle;\n",
       "    }\n",
       "\n",
       "    .dataframe tbody tr th {\n",
       "        vertical-align: top;\n",
       "    }\n",
       "\n",
       "    .dataframe thead th {\n",
       "        text-align: right;\n",
       "    }\n",
       "</style>\n",
       "<table border=\"1\" class=\"dataframe\">\n",
       "  <thead>\n",
       "    <tr style=\"text-align: right;\">\n",
       "      <th></th>\n",
       "      <th>Artifact</th>\n",
       "      <th>ReleaseCount</th>\n",
       "    </tr>\n",
       "  </thead>\n",
       "  <tbody>\n",
       "    <tr>\n",
       "      <th>0</th>\n",
       "      <td>com.google.apis:google-api-services-adsense</td>\n",
       "      <td>4639</td>\n",
       "    </tr>\n",
       "    <tr>\n",
       "      <th>1</th>\n",
       "      <td>org.wso2.identity.apps:console</td>\n",
       "      <td>3614</td>\n",
       "    </tr>\n",
       "    <tr>\n",
       "      <th>2</th>\n",
       "      <td>org.wso2.identity.apps:myaccount</td>\n",
       "      <td>3568</td>\n",
       "    </tr>\n",
       "    <tr>\n",
       "      <th>3</th>\n",
       "      <td>com.google.apis:google-api-services-youtubeAna...</td>\n",
       "      <td>3281</td>\n",
       "    </tr>\n",
       "    <tr>\n",
       "      <th>4</th>\n",
       "      <td>com.google.apis:google-api-services-genomics</td>\n",
       "      <td>3158</td>\n",
       "    </tr>\n",
       "    <tr>\n",
       "      <th>...</th>\n",
       "      <td>...</td>\n",
       "      <td>...</td>\n",
       "    </tr>\n",
       "    <tr>\n",
       "      <th>634998</th>\n",
       "      <td>com.appstractive:jwt-hmac-kt-android</td>\n",
       "      <td>1</td>\n",
       "    </tr>\n",
       "    <tr>\n",
       "      <th>634999</th>\n",
       "      <td>io.gitee.ssoss:hutool-parent</td>\n",
       "      <td>1</td>\n",
       "    </tr>\n",
       "    <tr>\n",
       "      <th>635000</th>\n",
       "      <td>io.github.skylarkarms:concurrents-lazy_holder</td>\n",
       "      <td>1</td>\n",
       "    </tr>\n",
       "    <tr>\n",
       "      <th>635001</th>\n",
       "      <td>com.abysscat:catutils</td>\n",
       "      <td>1</td>\n",
       "    </tr>\n",
       "    <tr>\n",
       "      <th>635002</th>\n",
       "      <td>io.github.gentle-hilt:voyager-screenmodel-ioss...</td>\n",
       "      <td>1</td>\n",
       "    </tr>\n",
       "  </tbody>\n",
       "</table>\n",
       "<p>635003 rows × 2 columns</p>\n",
       "</div>"
      ],
      "text/plain": [
       "                                                 Artifact  ReleaseCount\n",
       "0             com.google.apis:google-api-services-adsense          4639\n",
       "1                          org.wso2.identity.apps:console          3614\n",
       "2                        org.wso2.identity.apps:myaccount          3568\n",
       "3       com.google.apis:google-api-services-youtubeAna...          3281\n",
       "4            com.google.apis:google-api-services-genomics          3158\n",
       "...                                                   ...           ...\n",
       "634998               com.appstractive:jwt-hmac-kt-android             1\n",
       "634999                       io.gitee.ssoss:hutool-parent             1\n",
       "635000      io.github.skylarkarms:concurrents-lazy_holder             1\n",
       "635001                              com.abysscat:catutils             1\n",
       "635002  io.github.gentle-hilt:voyager-screenmodel-ioss...             1\n",
       "\n",
       "[635003 rows x 2 columns]"
      ]
     },
     "execution_count": 7,
     "metadata": {},
     "output_type": "execute_result"
    }
   ],
   "source": [
    "df"
   ]
  },
  {
   "cell_type": "code",
   "execution_count": 8,
   "id": "15d6faa7-ee9b-4bf9-9ab0-8632cdc1c342",
   "metadata": {},
   "outputs": [],
   "source": [
    "csv_file_path = r'fileDestination'\n",
    "df.to_csv(csv_file_path, index=False)"
   ]
  },
  {
   "cell_type": "code",
   "execution_count": null,
   "id": "6fd42d9f-dad5-4f5b-a32d-aea63e48408d",
   "metadata": {},
   "outputs": [],
   "source": []
  }
 ],
 "metadata": {
  "kernelspec": {
   "display_name": "Python 3 (ipykernel)",
   "language": "python",
   "name": "python3"
  },
  "language_info": {
   "codemirror_mode": {
    "name": "ipython",
    "version": 3
   },
   "file_extension": ".py",
   "mimetype": "text/x-python",
   "name": "python",
   "nbconvert_exporter": "python",
   "pygments_lexer": "ipython3",
   "version": "3.11.5"
  }
 },
 "nbformat": 4,
 "nbformat_minor": 5
}
